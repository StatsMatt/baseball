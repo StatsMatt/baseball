{
 "cells": [
  {
   "cell_type": "markdown",
   "metadata": {},
   "source": [
    "# Logistic Regression in Python\n",
    "\n",
    "Learning Python"
   ]
  },
  {
   "cell_type": "code",
   "execution_count": 1,
   "metadata": {},
   "outputs": [],
   "source": [
    "import pandas as pd\n",
    "import numpy as np\n",
    "import os\n",
    "from sklearn.model_selection import RepeatedKFold, cross_val_score\n",
    "from sklearn.linear_model import LogisticRegression\n",
    "from sklearn import metrics\n",
    "from sklearn import preprocessing\n",
    "import warnings\n",
    "warnings.filterwarnings(\"ignore\", category=FutureWarning)"
   ]
  },
  {
   "cell_type": "code",
   "execution_count": 2,
   "metadata": {},
   "outputs": [],
   "source": [
    "os.chdir(\"C:\\\\Users\\\\Matt\\\\Documents\\\\Python_Projects\")"
   ]
  },
  {
   "cell_type": "code",
   "execution_count": 3,
   "metadata": {},
   "outputs": [
    {
     "data": {
      "text/plain": [
       "'C:\\\\Users\\\\Matt\\\\Documents\\\\Python_Projects'"
      ]
     },
     "execution_count": 3,
     "metadata": {},
     "output_type": "execute_result"
    }
   ],
   "source": [
    "pwd"
   ]
  },
  {
   "cell_type": "code",
   "execution_count": 4,
   "metadata": {
    "scrolled": true
   },
   "outputs": [
    {
     "name": "stdout",
     "output_type": "stream",
     "text": [
      "      Opp  DR   IP   H  R  ER  BB  SO  HR  HBP  ...  CS  PO  X2B  X3B  IBB  \\\n",
      "788   DET   4  4.2   3  5   5   7   5   2    0  ...   0   0    0    0    0   \n",
      "1463  DET   5  6.0   7  2   2   1   5   0    0  ...   1   0    1    0    0   \n",
      "1272  TOR   4  9.0  10  5   5   6   6   0    0  ...   1   0    1    0    0   \n",
      "639   PIT   5  7.0   2  0   0   5   6   0    0  ...   1   0    0    0    0   \n",
      "41    ATL   4  2.1   0  0   0   1   0   0    0  ...   0   0    0    0    0   \n",
      "\n",
      "      GDP  SF  ROE  Result   Name  \n",
      "788     0   0    0       L  Nolan  \n",
      "1463    1   0    0       L  Tommy  \n",
      "1272    1   0    0       L  Tommy  \n",
      "639     1   0    0       W  Nolan  \n",
      "41      0   0    1       W  Nolan  \n",
      "\n",
      "[5 rows x 28 columns]\n",
      "{0: 'Nolan', 1: 'Tommy'}\n"
     ]
    }
   ],
   "source": [
    "baseball_train = pd.read_csv(r\"baseball_train.csv\",index_col=0,\n",
    "                             dtype={'Opp': 'category', 'Result': 'category', 'Name': 'category'}, header=0)\n",
    "baseball_test = pd.read_csv(r\"baseball_test.csv\",index_col=0,\n",
    "                            dtype={'Opp': 'category', 'Result': 'category', 'Name': 'category'}, header=0)\n",
    "print(baseball_test.head())\n",
    "encoded_categories = dict(enumerate(baseball_test.Name.cat.categories))\n",
    "print(encoded_categories)"
   ]
  },
  {
   "cell_type": "code",
   "execution_count": 5,
   "metadata": {},
   "outputs": [
    {
     "name": "stderr",
     "output_type": "stream",
     "text": [
      "C:\\Users\\Matt\\Documents\\Spyder\\lib\\site-packages\\ipykernel_launcher.py:3: DataConversionWarning: Data with input dtype int64, float64 were all converted to float64 by the scale function.\n",
      "  This is separate from the ipykernel package so we can avoid doing imports until\n"
     ]
    }
   ],
   "source": [
    "X = baseball_train.iloc[:,:-1]\n",
    "X = X.drop(['Opp','Result'],axis=1)\n",
    "X_scaled = preprocessing.scale(X)\n",
    "y = baseball_train.iloc[:,-1]\n",
    "\n",
    "# Create logistic regression\n",
    "logit = LogisticRegression(fit_intercept=True)\n",
    "\n",
    "# Create repeated kfold\n",
    "rkf = RepeatedKFold(n_splits=5, n_repeats=10, random_state=21191)\n",
    "\n",
    "# Do repeated k-fold cross-validation\n",
    "cv_results = cross_val_score(logit,\n",
    "                             X_scaled,\n",
    "                             y,\n",
    "                             cv=rkf,\n",
    "                             scoring=\"roc_auc\")"
   ]
  },
  {
   "cell_type": "markdown",
   "metadata": {},
   "source": [
    "# Repeated K-Fold Cross Validation"
   ]
  },
  {
   "cell_type": "code",
   "execution_count": 6,
   "metadata": {},
   "outputs": [
    {
     "name": "stdout",
     "output_type": "stream",
     "text": [
      "0.9528705724357899\n",
      "0.9615656446540881\n",
      "0.9669098554298791\n",
      "0.966001901675526\n",
      "0.9724200712028797\n",
      "0.9801243802000168\n"
     ]
    }
   ],
   "source": [
    "print(cv_results.min())\n",
    "print(np.percentile(cv_results, 25))\n",
    "print(cv_results.mean())\n",
    "print(np.percentile(cv_results, 50))\n",
    "print(np.percentile(cv_results, 75))\n",
    "print(cv_results.max())"
   ]
  },
  {
   "cell_type": "code",
   "execution_count": 7,
   "metadata": {
    "scrolled": true
   },
   "outputs": [
    {
     "name": "stdout",
     "output_type": "stream",
     "text": [
      "intercept = -0.5442528190372741\n",
      "DR = 0.19303169134961257\n",
      "IP = -0.3217307281537315\n",
      "H = 0.62027917893443\n",
      "R = -0.6302400324747851\n",
      "ER = -0.03378545218684243\n",
      "BB = -1.0099327019247948\n",
      "SO = -1.966148484593929\n",
      "HR = 0.05372705984100189\n",
      "HBP = -0.05660186321333444\n",
      "ERA = -0.2131987636961451\n",
      "BF = -0.13783343362321548\n",
      "GB = 2.1982709392611306\n",
      "FB = -1.0837530975652592\n",
      "LD = 0.43992433562689254\n",
      "PU = -0.5245051439159379\n",
      "Unk = 0.8226412145312731\n",
      "SB = -0.535448754974902\n",
      "CS = 0.1305539222199926\n",
      "PO = -0.22076071468841496\n",
      "X2B = -0.00047088924832914755\n",
      "X3B = -0.01630430881607756\n",
      "IBB = 0.21234604265601845\n",
      "GDP = 0.1509776805643962\n",
      "SF = -0.029957463266641927\n",
      "ROE = -0.007653828997020928\n"
     ]
    }
   ],
   "source": [
    "model = logit.fit(X_scaled,y)\n",
    "\n",
    "intercept = model.intercept_[0]\n",
    "\n",
    "print(\"intercept = {}\".format(intercept))\n",
    "for idx, col_name in enumerate(X.columns):\n",
    "    print(\"{} = {}\".format(col_name, model.coef_[0][idx]))"
   ]
  },
  {
   "cell_type": "code",
   "execution_count": 8,
   "metadata": {},
   "outputs": [
    {
     "name": "stderr",
     "output_type": "stream",
     "text": [
      "C:\\Users\\Matt\\Documents\\Spyder\\lib\\site-packages\\ipykernel_launcher.py:3: DataConversionWarning: Data with input dtype int64, float64 were all converted to float64 by the scale function.\n",
      "  This is separate from the ipykernel package so we can avoid doing imports until\n"
     ]
    },
    {
     "data": {
      "text/plain": [
       "0.8"
      ]
     },
     "execution_count": 8,
     "metadata": {},
     "output_type": "execute_result"
    }
   ],
   "source": [
    "Xnew = baseball_test.iloc[:,:-1]\n",
    "Xnew = Xnew.drop(['Opp','Result'],axis=1)\n",
    "Xnew_scaled = preprocessing.scale(Xnew)\n",
    "yTrue = baseball_test.iloc[:,-1]\n",
    "\n",
    "# make a prediction\n",
    "ynew = model.predict(Xnew_scaled)\n",
    "# show the inputs and predicted outputs\n",
    "#for i in range(len(Xnew)):\n",
    "#    print(\"Predicted=%s\" % (ynew[i]))\n",
    "    \n",
    "baseball = {'predicted': ynew, 'truth': yTrue}\n",
    "pd.DataFrame(data=baseball)\n",
    "metrics.accuracy_score(yTrue, ynew)"
   ]
  }
 ],
 "metadata": {
  "kernelspec": {
   "display_name": "Python 3",
   "language": "python",
   "name": "python3"
  },
  "language_info": {
   "codemirror_mode": {
    "name": "ipython",
    "version": 3
   },
   "file_extension": ".py",
   "mimetype": "text/x-python",
   "name": "python",
   "nbconvert_exporter": "python",
   "pygments_lexer": "ipython3",
   "version": "3.7.3"
  }
 },
 "nbformat": 4,
 "nbformat_minor": 2
}
