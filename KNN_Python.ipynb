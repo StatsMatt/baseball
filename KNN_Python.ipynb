{
 "cells": [
  {
   "cell_type": "markdown",
   "metadata": {},
   "source": [
    "# KNN in Python"
   ]
  },
  {
   "cell_type": "code",
   "execution_count": 23,
   "metadata": {},
   "outputs": [],
   "source": [
    "import pandas as pd\n",
    "import numpy as np\n",
    "import os\n",
    "from sklearn.model_selection import RepeatedKFold, cross_val_score\n",
    "from sklearn.neighbors import KNeighborsClassifier\n",
    "from sklearn import metrics\n",
    "from sklearn import preprocessing"
   ]
  },
  {
   "cell_type": "code",
   "execution_count": 24,
   "metadata": {},
   "outputs": [],
   "source": [
    "os.chdir(\"C:\\\\Users\\\\Matt\\\\Documents\\\\Python_Projects\")\n",
    "\n",
    "baseball_train = pd.read_csv(r\"baseball_train.csv\",index_col=0,\n",
    " dtype={'Opp': 'category', 'Result': 'category',\n",
    "'Name': 'category'}, header=0)\n",
    "baseball_test = pd.read_csv(r\"baseball_test.csv\",index_col=0,\n",
    " dtype={'Opp': 'category', 'Result': 'category', 'Name': 'category'}, header=0)"
   ]
  },
  {
   "cell_type": "code",
   "execution_count": 25,
   "metadata": {},
   "outputs": [
    {
     "name": "stderr",
     "output_type": "stream",
     "text": [
      "C:\\Users\\Matt\\Documents\\Spyder\\lib\\site-packages\\ipykernel_launcher.py:3: DataConversionWarning: Data with input dtype int64, float64 were all converted to float64 by the scale function.\n",
      "  This is separate from the ipykernel package so we can avoid doing imports until\n"
     ]
    }
   ],
   "source": [
    "X = baseball_train.iloc[:,:-1]\n",
    "X = X[['H','R','ERA','BB','SO','GB','FB','LD','PO','PU','Unk','SB','IBB']]\n",
    "X_scaled = preprocessing.scale(X)\n",
    "y = baseball_train.iloc[:,-1]"
   ]
  },
  {
   "cell_type": "code",
   "execution_count": 26,
   "metadata": {},
   "outputs": [],
   "source": [
    "rkf = RepeatedKFold(n_splits=5, n_repeats=10, random_state=21191)"
   ]
  },
  {
   "cell_type": "code",
   "execution_count": 27,
   "metadata": {},
   "outputs": [],
   "source": [
    "# range of k we want to try\n",
    "k_range = range(1, 50)\n",
    "# empty list to store scores\n",
    "k_scores = []\n",
    "\n",
    "# 1. we will loop through reasonable values of k\n",
    "for k in k_range:\n",
    "    # 2. run KNeighborsClassifier with k neighbours\n",
    "    knn = KNeighborsClassifier(n_neighbors=k)\n",
    "    # 3. obtain cross_val_score for KNeighborsClassifier with k neighbours\n",
    "    cv_results = cross_val_score(knn,\n",
    "                                 X_scaled,\n",
    "                                 y,\n",
    "                                 cv=rkf,\n",
    "                                 scoring=\"roc_auc\")\n",
    "    # 4. append mean of scores for k neighbors to k_scores list\n",
    "    k_scores.append(cv_results.mean())"
   ]
  },
  {
   "cell_type": "code",
   "execution_count": 28,
   "metadata": {},
   "outputs": [
    {
     "data": {
      "text/plain": [
       "Text(0, 0.5, 'Cross-validated ROC')"
      ]
     },
     "execution_count": 28,
     "metadata": {},
     "output_type": "execute_result"
    },
    {
     "data": {
      "image/png": "[encoded data removed]",
      "text/plain": [
       "<Figure size 432x288 with 1 Axes>"
      ]
     },
     "metadata": {
      "needs_background": "light"
     },
     "output_type": "display_data"
    }
   ],
   "source": [
    "# plot how accuracy changes as we vary k\n",
    "import matplotlib.pyplot as plt\n",
    "%matplotlib inline\n",
    "\n",
    "# plot the value of K for KNN (x-axis) versus the cross-validated accuracy (y-axis)\n",
    "# plt.plot(x_axis, y_axis)\n",
    "plt.plot(k_range, k_scores)\n",
    "plt.xlabel('Value of K for KNN')\n",
    "plt.ylabel('Cross-validated ROC')"
   ]
  },
  {
   "cell_type": "code",
   "execution_count": 29,
   "metadata": {},
   "outputs": [
    {
     "name": "stdout",
     "output_type": "stream",
     "text": [
      "     predicted  truth\n",
      "788      Nolan  Nolan\n",
      "1463     Tommy  Tommy\n",
      "1272     Tommy  Tommy\n",
      "639      Nolan  Nolan\n",
      "41       Tommy  Nolan\n",
      "391      Nolan  Nolan\n",
      "779      Nolan  Nolan\n",
      "1457     Tommy  Tommy\n",
      "496      Nolan  Nolan\n",
      "678      Nolan  Nolan\n",
      "358      Nolan  Nolan\n",
      "67       Tommy  Nolan\n",
      "1185     Tommy  Tommy\n",
      "1096     Nolan  Tommy\n",
      "946      Nolan  Tommy\n",
      "911      Tommy  Tommy\n",
      "1542     Tommy  Tommy\n",
      "324      Nolan  Nolan\n",
      "955      Tommy  Tommy\n",
      "206      Nolan  Nolan\n"
     ]
    },
    {
     "name": "stderr",
     "output_type": "stream",
     "text": [
      "C:\\Users\\Matt\\Documents\\Spyder\\lib\\site-packages\\ipykernel_launcher.py:3: DataConversionWarning: Data with input dtype int64, float64 were all converted to float64 by the scale function.\n",
      "  This is separate from the ipykernel package so we can avoid doing imports until\n"
     ]
    },
    {
     "data": {
      "text/plain": [
       "0.8"
      ]
     },
     "execution_count": 29,
     "metadata": {},
     "output_type": "execute_result"
    }
   ],
   "source": [
    "Xnew = baseball_test.iloc[:,:-1]\n",
    "Xnew = Xnew[['H','R','ERA','BB','SO','GB','FB','LD','PO','PU','Unk','SB','IBB']]\n",
    "Xnew_scaled = preprocessing.scale(Xnew)\n",
    "yTrue = baseball_test.iloc[:,-1]\n",
    "\n",
    "# check classification accuracy of KNN with K=7\n",
    "knn = KNeighborsClassifier(n_neighbors=7)\n",
    "knn.fit(X_scaled, y)\n",
    "ynew = knn.predict(Xnew_scaled)\n",
    "baseball = {'predicted': ynew, 'truth': yTrue}\n",
    "print(pd.DataFrame(data=baseball))\n",
    "metrics.accuracy_score(yTrue, ynew)"
   ]
  }
 ],
 "metadata": {
  "kernelspec": {
   "display_name": "Python 3",
   "language": "python",
   "name": "python3"
  },
  "language_info": {
   "codemirror_mode": {
    "name": "ipython",
    "version": 3
   },
   "file_extension": ".py",
   "mimetype": "text/x-python",
   "name": "python",
   "nbconvert_exporter": "python",
   "pygments_lexer": "ipython3",
   "version": "3.7.3"
  }
 },
 "nbformat": 4,
 "nbformat_minor": 2
}
